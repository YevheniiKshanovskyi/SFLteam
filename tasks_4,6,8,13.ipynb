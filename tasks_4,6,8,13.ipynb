{
  "cells": [
    {
      "cell_type": "markdown",
      "metadata": {
        "id": "view-in-github",
        "colab_type": "text"
      },
      "source": [
        "<a href=\"https://colab.research.google.com/github/YevheniiKshanovskyi/SFLteam/blob/Natalia-Dolishnia-Sprynska/tasks_4%2C6%2C8%2C13.ipynb\" target=\"_parent\"><img src=\"https://colab.research.google.com/assets/colab-badge.svg\" alt=\"Open In Colab\"/></a>"
      ]
    },
    {
      "cell_type": "markdown",
      "id": "6cc93a91",
      "metadata": {
        "id": "6cc93a91"
      },
      "source": [
        "# Set up\n",
        "Install Anaconda Python (version 3.7 or later)"
      ]
    },
    {
      "cell_type": "code",
      "execution_count": null,
      "id": "bc7c0a7c",
      "metadata": {
        "id": "bc7c0a7c",
        "outputId": "b4182f32-11e6-4e9e-c0e8-0eb8c97b32a5"
      },
      "outputs": [
        {
          "name": "stdout",
          "output_type": "stream",
          "text": [
            "sys.version_info(major=3, minor=9, micro=7, releaselevel='final', serial=0)\n",
            "version 3.9.7\n"
          ]
        }
      ],
      "source": [
        "# Installation - anaconda python:\n",
        "#     - https://www.anaconda.com/products/individual\n",
        "# After installation you can always add modules.\n",
        "# Modules can be added from different channels.\n",
        "#   conda info\n",
        "#   conda config --add channels anaconda\n",
        "#   conda config --add channels conda-forge\n",
        "# You can do periodic updates using these commands:\n",
        "#   conda update conda\n",
        "#   conda update anaconda\n",
        "# -------------------------------------------------------\n",
        "import sys\n",
        "vv = sys.version_info\n",
        "print(vv)\n",
        "print('version ' + '.'.join([str(x) for x in vv[0:3]]))"
      ]
    },
    {
      "cell_type": "markdown",
      "id": "7f978472",
      "metadata": {
        "id": "7f978472"
      },
      "source": [
        "##  Question 4"
      ]
    },
    {
      "cell_type": "markdown",
      "id": "5c774691",
      "metadata": {
        "id": "5c774691"
      },
      "source": [
        "Write a Python program which accepts the radius of a circle from the user and compute the area."
      ]
    },
    {
      "cell_type": "markdown",
      "id": "d6d0a52d",
      "metadata": {
        "id": "d6d0a52d"
      },
      "source": [
        "### Answer"
      ]
    },
    {
      "cell_type": "code",
      "source": [
        "import math\n",
        "radius = float(input(\"Вкажіть радіус кола: \"))\n",
        "def area(r):\n",
        "  return math.pi*r**2\n",
        "\n",
        "area(radius)\n"
      ],
      "metadata": {
        "colab": {
          "base_uri": "https://localhost:8080/"
        },
        "id": "7DOEPfXOkVbO",
        "outputId": "1c09fb9f-f2ed-49f7-a560-fc01cb400b09"
      },
      "id": "7DOEPfXOkVbO",
      "execution_count": null,
      "outputs": [
        {
          "name": "stdout",
          "output_type": "stream",
          "text": [
            "Вкажіть радіус кола: 1\n"
          ]
        },
        {
          "output_type": "execute_result",
          "data": {
            "text/plain": [
              "3.141592653589793"
            ]
          },
          "metadata": {},
          "execution_count": 5
        }
      ]
    },
    {
      "cell_type": "markdown",
      "id": "dae428e7",
      "metadata": {
        "id": "dae428e7"
      },
      "source": [
        "##  Question 6"
      ]
    },
    {
      "cell_type": "markdown",
      "id": "08201c2e",
      "metadata": {
        "id": "08201c2e"
      },
      "source": [
        "Write a Python program that accepts an integer (n) and computes the value of n+nn+nnn"
      ]
    },
    {
      "cell_type": "markdown",
      "id": "ed4f8b37",
      "metadata": {
        "id": "ed4f8b37"
      },
      "source": [
        "### Answer"
      ]
    },
    {
      "cell_type": "code",
      "source": [
        "n = int(input(\"Вкажіть ціле число: \"))\n",
        "def calculation(n):\n",
        "  return n+n**2+n**3\n",
        "\n",
        "calculation(n)"
      ],
      "metadata": {
        "colab": {
          "base_uri": "https://localhost:8080/"
        },
        "id": "ovbb_YmbnXdL",
        "outputId": "bb0770f5-6330-4c08-8f3d-200fa63308cc"
      },
      "id": "ovbb_YmbnXdL",
      "execution_count": null,
      "outputs": [
        {
          "name": "stdout",
          "output_type": "stream",
          "text": [
            "Вкажіть ціле число: 1\n"
          ]
        },
        {
          "output_type": "execute_result",
          "data": {
            "text/plain": [
              "3"
            ]
          },
          "metadata": {},
          "execution_count": 7
        }
      ]
    },
    {
      "cell_type": "markdown",
      "id": "782315b7",
      "metadata": {
        "id": "782315b7"
      },
      "source": [
        "##  Question 8"
      ]
    },
    {
      "cell_type": "markdown",
      "id": "be5a74b1",
      "metadata": {
        "id": "be5a74b1"
      },
      "source": [
        "Write a program that asks the user to enter three numbers: the day of birth, the month of birth and the year of birth (use three separate input statements). Print out the total number of days from birth."
      ]
    },
    {
      "cell_type": "markdown",
      "id": "ffc357e6",
      "metadata": {
        "id": "ffc357e6"
      },
      "source": [
        "### Answer"
      ]
    },
    {
      "cell_type": "code",
      "source": [
        "import datetime\n",
        "day = int(input(\"Вкажіть день, у який ви народилися: \"))\n",
        "month = int(input(\"Вкажіть місяць, у який ви народилися: \"))\n",
        "year = int(input(\"Вкажіть рік, у який ви народилися: \"))\n",
        "def total_days(day, month, year):\n",
        "  birth_date = datetime.date(year, month, day)\n",
        "  today_date = datetime.date.today()\n",
        "  return \"Від вашого ДН минуло: \" + str(str(today_date - birth_date).split()[0]) + \" днів\"\n",
        "\n",
        "\n",
        "total_days(day, month, year)"
      ],
      "metadata": {
        "colab": {
          "base_uri": "https://localhost:8080/",
          "height": 88
        },
        "id": "MIEc8Fp5obBA",
        "outputId": "8233aa4d-4262-420f-800d-49bc2a4e7f03"
      },
      "id": "MIEc8Fp5obBA",
      "execution_count": null,
      "outputs": [
        {
          "name": "stdout",
          "output_type": "stream",
          "text": [
            "Вкажіть день, у який ви народилися: 23\n",
            "Вкажіть місяць, у який ви народилися: 01\n",
            "Вкажіть рік, у який ви народилися: 2004\n"
          ]
        },
        {
          "output_type": "execute_result",
          "data": {
            "text/plain": [
              "'Від вашого ДН минуло: 6816 днів'"
            ],
            "application/vnd.google.colaboratory.intrinsic+json": {
              "type": "string"
            }
          },
          "metadata": {},
          "execution_count": 23
        }
      ]
    },
    {
      "cell_type": "markdown",
      "id": "d055fd4b",
      "metadata": {
        "id": "d055fd4b"
      },
      "source": [
        "##  Question 13"
      ]
    },
    {
      "cell_type": "markdown",
      "id": "c79ae3aa",
      "metadata": {
        "id": "c79ae3aa"
      },
      "source": [
        "Write a program that asks the user to enter a length in centimeters. If the user enters a negative length, the program should tell the user that the entry is invalid. Otherwise, the program should convert the length to inches and print out the result. There are 2.54 centimeters in an inch."
      ]
    },
    {
      "cell_type": "markdown",
      "id": "fb5168e7",
      "metadata": {
        "id": "fb5168e7"
      },
      "source": [
        "### Answer"
      ]
    },
    {
      "cell_type": "code",
      "source": [
        "lenght = float(input(\"Введіть довжину в сантиметрах: \"))\n",
        "def cm_to_inch(lenght):\n",
        "  if lenght < 0:\n",
        "    return \"Ви ввели неправильне число\"\n",
        "  else: \n",
        "    return lenght/2.54\n",
        "\n",
        "cm_to_inch(lenght)"
      ],
      "metadata": {
        "colab": {
          "base_uri": "https://localhost:8080/",
          "height": 53
        },
        "id": "JAama1VjxFC_",
        "outputId": "612638cf-dc56-43a8-806b-78e4a942ef8c"
      },
      "id": "JAama1VjxFC_",
      "execution_count": null,
      "outputs": [
        {
          "name": "stdout",
          "output_type": "stream",
          "text": [
            "Введіть довжину в сантиметрах: -2.54\n"
          ]
        },
        {
          "output_type": "execute_result",
          "data": {
            "text/plain": [
              "'Ви ввели неправильне число'"
            ],
            "application/vnd.google.colaboratory.intrinsic+json": {
              "type": "string"
            }
          },
          "metadata": {},
          "execution_count": 26
        }
      ]
    }
  ],
  "metadata": {
    "kernelspec": {
      "display_name": "Python 3 (ipykernel)",
      "language": "python",
      "name": "python3"
    },
    "language_info": {
      "codemirror_mode": {
        "name": "ipython",
        "version": 3
      },
      "file_extension": ".py",
      "mimetype": "text/x-python",
      "name": "python",
      "nbconvert_exporter": "python",
      "pygments_lexer": "ipython3",
      "version": "3.9.7"
    },
    "colab": {
      "provenance": [],
      "include_colab_link": true
    }
  },
  "nbformat": 4,
  "nbformat_minor": 5
}