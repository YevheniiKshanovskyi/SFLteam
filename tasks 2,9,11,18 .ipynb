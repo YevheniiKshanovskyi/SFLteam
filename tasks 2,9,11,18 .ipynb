{
  "cells": [
    {
      "cell_type": "markdown",
      "id": "a976253a",
      "metadata": {
        "id": "a976253a"
      },
      "source": [
        "# Set up\n",
        "Install Anaconda Python (version 3.7 or later)"
      ]
    },
    {
      "cell_type": "code",
      "execution_count": null,
      "id": "e4dbce4d",
      "metadata": {
        "id": "e4dbce4d",
        "outputId": "73b9c765-6cb1-455a-e60d-2c2f215abda1"
      },
      "outputs": [
        {
          "name": "stdout",
          "output_type": "stream",
          "text": [
            "sys.version_info(major=3, minor=9, micro=7, releaselevel='final', serial=0)\n",
            "version 3.9.7\n"
          ]
        }
      ],
      "source": [
        "# Installation - anaconda python:\n",
        "#     - https://www.anaconda.com/products/individual\n",
        "# After installation you can always add modules.\n",
        "# Modules can be added from different channels.\n",
        "#   conda info\n",
        "#   conda config --add channels anaconda\n",
        "#   conda config --add channels conda-forge\n",
        "# You can do periodic updates using these commands:\n",
        "#   conda update conda\n",
        "#   conda update anaconda\n",
        "# -------------------------------------------------------\n",
        "import sys\n",
        "vv = sys.version_info\n",
        "print(vv)\n",
        "print('version ' + '.'.join([str(x) for x in vv[0:3]]))"
      ]
    },
    {
      "cell_type": "markdown",
      "id": "f95d600d",
      "metadata": {
        "id": "f95d600d"
      },
      "source": [
        "##  Question 2"
      ]
    },
    {
      "cell_type": "markdown",
      "id": "d6144b32",
      "metadata": {
        "id": "d6144b32"
      },
      "source": [
        "**Convert Between °C and °F.** Convert temperatures from one system to another.\n",
        "- Create a print statement to convert 18.5° C to °F. \n",
        "- Create a print statement to convert -4° F to °C."
      ]
    },
    {
      "cell_type": "code",
      "source": [
        "celsius_1 = 18.5\n",
        "fahrenheit_1 = (celsius_1 * 1.8) + 32\n",
        "print(\"18.5 Celsius is \"+ str(round(fahrenheit_1, 2)) + \" fahrenheit\")\n",
        "fahrenheit_2 = -4\n",
        "celsius_2 = (fahrenheit_2 -32 ) / 1.8\n",
        "print(\"-4 fahrenheit is \"+ str(round(celsius_2, 2)) + \" celsius\")"
      ],
      "metadata": {
        "colab": {
          "base_uri": "https://localhost:8080/"
        },
        "id": "nQbHbr66XPgt",
        "outputId": "9e5e5663-985a-40fa-fb7a-bbef6bbff097"
      },
      "id": "nQbHbr66XPgt",
      "execution_count": null,
      "outputs": [
        {
          "output_type": "stream",
          "name": "stdout",
          "text": [
            "18.5 Celsius is 65.3 fahrenheit\n",
            "-4 fahrenheit is -20.0 celsius\n"
          ]
        }
      ]
    },
    {
      "cell_type": "markdown",
      "id": "130f9f3f",
      "metadata": {
        "id": "130f9f3f"
      },
      "source": [
        "##  Question 9"
      ]
    },
    {
      "cell_type": "markdown",
      "id": "bb487099",
      "metadata": {
        "id": "bb487099"
      },
      "source": [
        "Write a program that asks the user to enter an angle between -180° and 180°. Using an expression with the modulo operator, convert the angle to its equivalent between 0° and 360°."
      ]
    },
    {
      "cell_type": "code",
      "source": [
        "angl = float(input(\"enter angle between -180 and 180 \"))\n",
        "print(angl % 360)"
      ],
      "metadata": {
        "colab": {
          "base_uri": "https://localhost:8080/"
        },
        "id": "c1GDKOABvjHb",
        "outputId": "0998d6b6-7533-4319-f1b7-5fe3efa54c1f"
      },
      "id": "c1GDKOABvjHb",
      "execution_count": 16,
      "outputs": [
        {
          "output_type": "stream",
          "name": "stdout",
          "text": [
            "enter angle between -180 and 180 -60\n",
            "300.0\n"
          ]
        }
      ]
    },
    {
      "cell_type": "markdown",
      "id": "fc111e34",
      "metadata": {
        "id": "fc111e34"
      },
      "source": [
        "##  Question 11"
      ]
    },
    {
      "cell_type": "markdown",
      "id": "31ce21a3",
      "metadata": {
        "id": "31ce21a3"
      },
      "source": [
        "Write a program that asks the user to enter a power (non-negative integer number). Then find the last two digits of 2 raised to that power."
      ]
    },
    {
      "cell_type": "code",
      "source": [
        "power = int(input(\"Enter power(non-negative integer number): \"))\n",
        "ans = 2**power\n",
        "print(ans % 100)"
      ],
      "metadata": {
        "id": "LRGdBVOSV8Fj",
        "outputId": "d1929c4b-7a8b-4970-b5b2-65868f1543cc",
        "colab": {
          "base_uri": "https://localhost:8080/"
        }
      },
      "id": "LRGdBVOSV8Fj",
      "execution_count": null,
      "outputs": [
        {
          "output_type": "stream",
          "name": "stdout",
          "text": [
            "Enter power(non-negative integer number): 5\n",
            "32\n"
          ]
        }
      ]
    },
    {
      "cell_type": "markdown",
      "id": "fc435814",
      "metadata": {
        "id": "fc435814"
      },
      "source": [
        "## Question 18"
      ]
    },
    {
      "cell_type": "markdown",
      "id": "797581d5",
      "metadata": {
        "id": "797581d5"
      },
      "source": [
        "Write a function that reverse the tuple."
      ]
    },
    {
      "cell_type": "code",
      "source": [
        "x = ('a', 'b', 'c', 'd')\n",
        "result = tuple(reversed(x))\n",
        "print(result)"
      ],
      "metadata": {
        "colab": {
          "base_uri": "https://localhost:8080/"
        },
        "id": "myVTkAgcXAHq",
        "outputId": "d8a0c6dd-b1ae-43da-ff16-e56f4c641a61"
      },
      "id": "myVTkAgcXAHq",
      "execution_count": null,
      "outputs": [
        {
          "output_type": "stream",
          "name": "stdout",
          "text": [
            "('d', 'c', 'b', 'a')\n"
          ]
        }
      ]
    }
  ],
  "metadata": {
    "kernelspec": {
      "display_name": "Python 3 (ipykernel)",
      "language": "python",
      "name": "python3"
    },
    "language_info": {
      "codemirror_mode": {
        "name": "ipython",
        "version": 3
      },
      "file_extension": ".py",
      "mimetype": "text/x-python",
      "name": "python",
      "nbconvert_exporter": "python",
      "pygments_lexer": "ipython3",
      "version": "3.9.7"
    },
    "colab": {
      "provenance": []
    }
  },
  "nbformat": 4,
  "nbformat_minor": 5
}