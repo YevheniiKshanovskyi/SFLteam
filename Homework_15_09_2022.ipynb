{
 "cells": [
  {
   "cell_type": "markdown",
   "id": "6cc93a91",
   "metadata": {},
   "source": [
    "# Set up\n",
    "Install Anaconda Python (version 3.7 or later)"
   ]
  },
  {
   "cell_type": "code",
   "execution_count": 1,
   "id": "bc7c0a7c",
   "metadata": {},
   "outputs": [
    {
     "name": "stdout",
     "output_type": "stream",
     "text": [
      "sys.version_info(major=3, minor=9, micro=7, releaselevel='final', serial=0)\n",
      "version 3.9.7\n"
     ]
    }
   ],
   "source": [
    "# Installation - anaconda python:\n",
    "#     - https://www.anaconda.com/products/individual\n",
    "# After installation you can always add modules.\n",
    "# Modules can be added from different channels.\n",
    "#   conda info\n",
    "#   conda config --add channels anaconda\n",
    "#   conda config --add channels conda-forge\n",
    "# You can do periodic updates using these commands:\n",
    "#   conda update conda\n",
    "#   conda update anaconda\n",
    "# -------------------------------------------------------\n",
    "import sys\n",
    "vv = sys.version_info\n",
    "print(vv)\n",
    "print('version ' + '.'.join([str(x) for x in vv[0:3]]))"
   ]
  },
  {
   "cell_type": "markdown",
   "id": "06c27760",
   "metadata": {},
   "source": [
    "##  Question 1"
   ]
  },
  {
   "cell_type": "markdown",
   "id": "82c39cd7",
   "metadata": {},
   "source": [
    "Write a print statement to print the mixed fraction 3 5/8 as a floating point number and as an integer."
   ]
  },
  {
   "cell_type": "markdown",
   "id": "3d1206e0",
   "metadata": {},
   "source": [
    "### Answer"
   ]
  },
  {
   "cell_type": "markdown",
   "id": "f22dd569",
   "metadata": {},
   "source": [
    "##  Question 2"
   ]
  },
  {
   "cell_type": "markdown",
   "id": "dca44c62",
   "metadata": {},
   "source": [
    "**Convert Between °C and °F.** Convert temperatures from one system to another.\n",
    "- Create a print statement to convert 18.5° C to °F. \n",
    "- Create a print statement to convert -4° F to °C."
   ]
  },
  {
   "cell_type": "markdown",
   "id": "00b6f59b",
   "metadata": {},
   "source": [
    "### Answer"
   ]
  },
  {
   "cell_type": "markdown",
   "id": "72f7c2f1",
   "metadata": {},
   "source": [
    "##  Question 3"
   ]
  },
  {
   "cell_type": "markdown",
   "id": "d67df8fe",
   "metadata": {},
   "source": [
    "Write a print statement to print the mixed fraction 3 5/8 as a floating point number and as an integer."
   ]
  },
  {
   "cell_type": "markdown",
   "id": "abd82ff9",
   "metadata": {},
   "source": [
    "### Answer"
   ]
  },
  {
   "cell_type": "markdown",
   "id": "7f978472",
   "metadata": {},
   "source": [
    "##  Question 4"
   ]
  },
  {
   "cell_type": "markdown",
   "id": "5c774691",
   "metadata": {},
   "source": [
    "Write a Python program which accepts the radius of a circle from the user and compute the area."
   ]
  },
  {
   "cell_type": "markdown",
   "id": "d6d0a52d",
   "metadata": {},
   "source": [
    "### Answer"
   ]
  },
  {
   "cell_type": "markdown",
   "id": "7deb40b9",
   "metadata": {},
   "source": [
    "##  Question 5"
   ]
  },
  {
   "cell_type": "markdown",
   "id": "36e23563",
   "metadata": {},
   "source": [
    "Write a Python program which accepts the user's first and last name and print them in reverse order with a space between them."
   ]
  },
  {
   "cell_type": "markdown",
   "id": "c1b63a5d",
   "metadata": {},
   "source": [
    "### Answer"
   ]
  },
  {
   "cell_type": "markdown",
   "id": "dae428e7",
   "metadata": {},
   "source": [
    "##  Question 6"
   ]
  },
  {
   "cell_type": "markdown",
   "id": "08201c2e",
   "metadata": {},
   "source": [
    "Write a Python program that accepts an integer (n) and computes the value of n+nn+nnn"
   ]
  },
  {
   "cell_type": "markdown",
   "id": "ed4f8b37",
   "metadata": {},
   "source": [
    "### Answer"
   ]
  },
  {
   "cell_type": "markdown",
   "id": "bec8d306",
   "metadata": {},
   "source": [
    "##  Question 7"
   ]
  },
  {
   "cell_type": "markdown",
   "id": "0b82ae59",
   "metadata": {},
   "source": [
    "A lot of cell phones have tip calculators. Write one. Ask the user for the price of the meal and the percent tip they want to leave. Then print both the tip amount and the total bill with the tip included."
   ]
  },
  {
   "cell_type": "markdown",
   "id": "855e9ada",
   "metadata": {},
   "source": [
    "### Answer"
   ]
  },
  {
   "cell_type": "markdown",
   "id": "782315b7",
   "metadata": {},
   "source": [
    "##  Question 8"
   ]
  },
  {
   "cell_type": "markdown",
   "id": "be5a74b1",
   "metadata": {},
   "source": [
    "Write a program that asks the user to enter three numbers: the day of birth, the month of birth and the year of birth (use three separate input statements). Print out the total number of days from birth."
   ]
  },
  {
   "cell_type": "markdown",
   "id": "ffc357e6",
   "metadata": {},
   "source": [
    "### Answer"
   ]
  },
  {
   "cell_type": "markdown",
   "id": "046e6b5d",
   "metadata": {},
   "source": [
    "##  Question 9"
   ]
  },
  {
   "cell_type": "markdown",
   "id": "2be8413c",
   "metadata": {},
   "source": [
    "Write a program that asks the user to enter an angle between -180° and 180°. Using an expression with the modulo operator, convert the angle to its equivalent between 0° and 360°."
   ]
  },
  {
   "cell_type": "markdown",
   "id": "070683b5",
   "metadata": {},
   "source": [
    "### Answer"
   ]
  },
  {
   "cell_type": "markdown",
   "id": "c9c8af36",
   "metadata": {},
   "source": [
    "##  Question 10"
   ]
  },
  {
   "cell_type": "markdown",
   "id": "b3189cf2",
   "metadata": {},
   "source": [
    "Write a program that generates a random decimal number between 1 and 10 with two decimal places of accuracy."
   ]
  },
  {
   "cell_type": "markdown",
   "id": "0bf49552",
   "metadata": {},
   "source": [
    "### Answer"
   ]
  },
  {
   "cell_type": "markdown",
   "id": "fc7f5268",
   "metadata": {},
   "source": [
    "##  Question 11"
   ]
  },
  {
   "cell_type": "markdown",
   "id": "f7d5e811",
   "metadata": {},
   "source": [
    "Write a program that asks the user to enter a power. Then find the last two digits of 2 raised to that power."
   ]
  },
  {
   "cell_type": "markdown",
   "id": "6f9266d8",
   "metadata": {},
   "source": [
    "### Answer"
   ]
  },
  {
   "cell_type": "markdown",
   "id": "0e8bf2ed",
   "metadata": {},
   "source": [
    "##  Question 12"
   ]
  },
  {
   "cell_type": "markdown",
   "id": "a648dc6a",
   "metadata": {},
   "source": [
    "Write a program that asks the user how many credits they have taken. If they have taken 23 or less, print that the student is a freshman. If they have taken between 24 and 53, print that they are a sophomore. The range for juniors is 54 to 83, and for seniors it is 84 and over."
   ]
  },
  {
   "cell_type": "markdown",
   "id": "d9428a56",
   "metadata": {},
   "source": [
    "### Answer"
   ]
  },
  {
   "cell_type": "markdown",
   "id": "d055fd4b",
   "metadata": {},
   "source": [
    "##  Question 13"
   ]
  },
  {
   "cell_type": "markdown",
   "id": "c79ae3aa",
   "metadata": {},
   "source": [
    "Write a program that asks the user to enter a length in centimeters. If the user enters a negative length, the program should tell the user that the entry is invalid. Otherwise, the program should convert the length to inches and print out the result. There are 2.54 centimeters in an inch."
   ]
  },
  {
   "cell_type": "markdown",
   "id": "fb5168e7",
   "metadata": {},
   "source": [
    "### Answer"
   ]
  },
  {
   "cell_type": "markdown",
   "id": "1469555d",
   "metadata": {},
   "source": [
    "##  Question 14"
   ]
  },
  {
   "cell_type": "markdown",
   "id": "73a97ead",
   "metadata": {},
   "source": [
    "Write a program that lets the user play Rock-Paper-Scissors against the computer. There should be three rounds, and after those three rounds, your program should print out who won and lost or that there is a tie."
   ]
  },
  {
   "cell_type": "markdown",
   "id": "96b5d4f0",
   "metadata": {},
   "source": [
    "### Answer"
   ]
  },
  {
   "cell_type": "markdown",
   "id": "81480a72",
   "metadata": {},
   "source": [
    "##  Question 15"
   ]
  },
  {
   "cell_type": "markdown",
   "id": "9868bbf3",
   "metadata": {},
   "source": [
    "A store charges $\\$$12 per item if you buy less than 10 items. If you buy between 10 and 99 items, the cost is $\\$$10 per item. If you buy 100 or more items, the cost is $7 per item. Write a program that asks the user how many items they are buying and prints the total cost."
   ]
  },
  {
   "cell_type": "markdown",
   "id": "2bc40308",
   "metadata": {},
   "source": [
    "### Answer"
   ]
  },
  {
   "cell_type": "markdown",
   "id": "bf4186d1",
   "metadata": {},
   "source": [
    "##  Question 16"
   ]
  },
  {
   "cell_type": "markdown",
   "id": "d1389cb0",
   "metadata": {},
   "source": [
    "Write a program that removes any repeated items from a list so that each item appears at most once. For instance, the list $[1,1,2,3,4,3,0,0]$ would become $[1,2,3,4,0]$."
   ]
  },
  {
   "cell_type": "markdown",
   "id": "765928be",
   "metadata": {},
   "source": [
    "### Answer"
   ]
  },
  {
   "cell_type": "markdown",
   "id": "e062f922",
   "metadata": {},
   "source": [
    "##  Question 17"
   ]
  },
  {
   "cell_type": "markdown",
   "id": "b6305c6e",
   "metadata": {},
   "source": [
    "Calculate number of business days between two dates using datetime module."
   ]
  },
  {
   "cell_type": "markdown",
   "id": "033bd743",
   "metadata": {},
   "source": [
    "### Answer"
   ]
  },
  {
   "cell_type": "markdown",
   "id": "4408a3a9",
   "metadata": {},
   "source": [
    "## Question 18"
   ]
  },
  {
   "cell_type": "markdown",
   "id": "bb4ef2dd",
   "metadata": {},
   "source": [
    "Write a function that reverse the tuple."
   ]
  },
  {
   "cell_type": "markdown",
   "id": "8fdb9709",
   "metadata": {},
   "source": [
    "## Answer"
   ]
  },
  {
   "cell_type": "markdown",
   "id": "fcc4f206",
   "metadata": {},
   "source": [
    "## Question 19"
   ]
  },
  {
   "cell_type": "markdown",
   "id": "84e09c29",
   "metadata": {},
   "source": [
    "Sort a tuple of tuples by 2nd item. For example, the output for the tuple $(('a', 23),('b', 37),('c', 11), ('d',29))$ should be $(('c', 11), ('a', 23), ('d', 29), ('b', 37))$"
   ]
  },
  {
   "cell_type": "markdown",
   "id": "27ca631f",
   "metadata": {},
   "source": [
    "## Answer"
   ]
  },
  {
   "cell_type": "markdown",
   "id": "b683db4e",
   "metadata": {},
   "source": [
    "## Question 20"
   ]
  },
  {
   "cell_type": "markdown",
   "id": "acbd5882",
   "metadata": {},
   "source": [
    "Write a function that removes empty strings from the list of strings."
   ]
  },
  {
   "cell_type": "markdown",
   "id": "581524a9",
   "metadata": {},
   "source": [
    "## Answer"
   ]
  },
  {
   "cell_type": "markdown",
   "id": "31c89874",
   "metadata": {},
   "source": [
    "## Question 21"
   ]
  },
  {
   "cell_type": "markdown",
   "id": "7c677830",
   "metadata": {},
   "source": [
    "Write a program that asks the user to enter a power. Then find the last two digits of 2 raised to that power."
   ]
  },
  {
   "cell_type": "markdown",
   "id": "493ca515",
   "metadata": {},
   "source": [
    "## Answer"
   ]
  },
  {
   "cell_type": "markdown",
   "id": "1f79da24",
   "metadata": {},
   "source": [
    "## Question 22"
   ]
  },
  {
   "cell_type": "code",
   "execution_count": null,
   "id": "c75bfe8c",
   "metadata": {},
   "outputs": [],
   "source": []
  }
 ],
 "metadata": {
  "kernelspec": {
   "display_name": "Python 3 (ipykernel)",
   "language": "python",
   "name": "python3"
  },
  "language_info": {
   "codemirror_mode": {
    "name": "ipython",
    "version": 3
   },
   "file_extension": ".py",
   "mimetype": "text/x-python",
   "name": "python",
   "nbconvert_exporter": "python",
   "pygments_lexer": "ipython3",
   "version": "3.9.7"
  }
 },
 "nbformat": 4,
 "nbformat_minor": 5
}
