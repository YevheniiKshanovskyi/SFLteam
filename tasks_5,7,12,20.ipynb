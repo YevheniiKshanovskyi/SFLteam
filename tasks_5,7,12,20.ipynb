{
  "cells": [
    {
      "cell_type": "markdown",
      "id": "6cc93a91",
      "metadata": {
        "id": "6cc93a91"
      },
      "source": [
        "# Set up\n",
        "Install Anaconda Python (version 3.7 or later)"
      ]
    },
    {
      "cell_type": "code",
      "execution_count": 1,
      "id": "bc7c0a7c",
      "metadata": {
        "colab": {
          "base_uri": "https://localhost:8080/"
        },
        "id": "bc7c0a7c",
        "outputId": "5a722d89-f1a1-41c5-8e82-bd4a5e5699f4"
      },
      "outputs": [
        {
          "output_type": "stream",
          "name": "stdout",
          "text": [
            "sys.version_info(major=3, minor=7, micro=14, releaselevel='final', serial=0)\n",
            "version 3.7.14\n"
          ]
        }
      ],
      "source": [
        "# Installation - anaconda python:\n",
        "#     - https://www.anaconda.com/products/individual\n",
        "# After installation you can always add modules.\n",
        "# Modules can be added from different channels.\n",
        "#   conda info\n",
        "#   conda config --add channels anaconda\n",
        "#   conda config --add channels conda-forge\n",
        "# You can do periodic updates using these commands:\n",
        "#   conda update conda\n",
        "#   conda update anaconda\n",
        "# -------------------------------------------------------\n",
        "import sys\n",
        "vv = sys.version_info\n",
        "print(vv)\n",
        "print('version ' + '.'.join([str(x) for x in vv[0:3]]))"
      ]
    },
    {
      "cell_type": "markdown",
      "id": "7deb40b9",
      "metadata": {
        "id": "7deb40b9"
      },
      "source": [
        "##  Question 5"
      ]
    },
    {
      "cell_type": "markdown",
      "id": "36e23563",
      "metadata": {
        "id": "36e23563"
      },
      "source": [
        "Write a Python program which accepts the user's first and last name and print them in reverse order with a space between them."
      ]
    },
    {
      "cell_type": "markdown",
      "id": "c1b63a5d",
      "metadata": {
        "id": "c1b63a5d"
      },
      "source": [
        "### Answer"
      ]
    },
    {
      "cell_type": "code",
      "source": [
        "name = input(\"Enter name:\")\n",
        "last_name = input(\"Enter last name:\")\n",
        "print (\"Reverse order: \" + last_name + \" \" + name)\n"
      ],
      "metadata": {
        "colab": {
          "base_uri": "https://localhost:8080/"
        },
        "id": "9FjIPaf8WhIq",
        "outputId": "5b6e5523-ad3f-441d-d542-42c02d59bd29"
      },
      "id": "9FjIPaf8WhIq",
      "execution_count": 4,
      "outputs": [
        {
          "output_type": "stream",
          "name": "stdout",
          "text": [
            "Enter name:N\n",
            "Enter last name:K\n",
            "Reverse order: K N\n"
          ]
        }
      ]
    },
    {
      "cell_type": "markdown",
      "id": "bec8d306",
      "metadata": {
        "id": "bec8d306"
      },
      "source": [
        "##  Question 7"
      ]
    },
    {
      "cell_type": "markdown",
      "id": "0b82ae59",
      "metadata": {
        "id": "0b82ae59"
      },
      "source": [
        "A lot of cell phones have tip calculators. Write one. Ask the user for the price of the meal and the percent tip they want to leave. Then print both the tip amount and the total bill with the tip included."
      ]
    },
    {
      "cell_type": "markdown",
      "id": "855e9ada",
      "metadata": {
        "id": "855e9ada"
      },
      "source": [
        "### Answer"
      ]
    },
    {
      "cell_type": "code",
      "source": [
        "price = int(input('Enter the price of meal: '))\n",
        "tip_percent = int(input('Enter the percent of tip: '))\n",
        "tip_result = price * (tip_percent/100)\n",
        "sum = price + tip_result\n",
        "print('Bill of meal : ', price, 'Total bill : ', sum)"
      ],
      "metadata": {
        "colab": {
          "base_uri": "https://localhost:8080/"
        },
        "id": "_CgRRElHXpMV",
        "outputId": "ce68b81d-d8ca-44b0-fc3b-cef98a4d7b95"
      },
      "id": "_CgRRElHXpMV",
      "execution_count": 6,
      "outputs": [
        {
          "output_type": "stream",
          "name": "stdout",
          "text": [
            "Enter the price of meal: 100\n",
            "Enter the percent of tip: 10\n",
            "Bill of meal :  100 Total bill :  110.0\n"
          ]
        }
      ]
    },
    {
      "cell_type": "markdown",
      "id": "0e8bf2ed",
      "metadata": {
        "id": "0e8bf2ed"
      },
      "source": [
        "##  Question 12"
      ]
    },
    {
      "cell_type": "markdown",
      "id": "a648dc6a",
      "metadata": {
        "id": "a648dc6a"
      },
      "source": [
        "Write a program that asks the user how many credits they have taken. If they have taken 23 or less, print that the student is a freshman. If they have taken between 24 and 53, print that they are a sophomore. The range for juniors is 54 to 83, and for seniors it is 84 and over."
      ]
    },
    {
      "cell_type": "markdown",
      "id": "d9428a56",
      "metadata": {
        "id": "d9428a56"
      },
      "source": [
        "### Answer"
      ]
    },
    {
      "cell_type": "code",
      "source": [
        "credits = int(input(\"How many credits have you taken? \"))\n",
        "if credits <= 23:\n",
        "    print(\"You are a freshman\")\n",
        "elif credits <= 53:\n",
        "    print(\"You are a sophomore\")\n",
        "elif credits <= 83:\n",
        "    print(\"You are a junior\")\n",
        "else:\n",
        "    print(\"You are a senior\")"
      ],
      "metadata": {
        "colab": {
          "base_uri": "https://localhost:8080/"
        },
        "id": "nQc0sOOWX51q",
        "outputId": "2c89fe32-8d8b-4c39-c690-8645fa65942d"
      },
      "id": "nQc0sOOWX51q",
      "execution_count": 8,
      "outputs": [
        {
          "output_type": "stream",
          "name": "stdout",
          "text": [
            "How many credits have you taken? 89\n",
            "You are a senior\n"
          ]
        }
      ]
    },
    {
      "cell_type": "markdown",
      "id": "b683db4e",
      "metadata": {
        "id": "b683db4e"
      },
      "source": [
        "## Question 20"
      ]
    },
    {
      "cell_type": "markdown",
      "id": "acbd5882",
      "metadata": {
        "id": "acbd5882"
      },
      "source": [
        "Write a function that removes empty strings from the list of strings."
      ]
    },
    {
      "cell_type": "markdown",
      "id": "581524a9",
      "metadata": {
        "id": "581524a9"
      },
      "source": [
        "## Answer"
      ]
    },
    {
      "cell_type": "code",
      "source": [
        "list = ['dfvdfv', '', 'sdcdss', 'sdsdcsdc', '']\n",
        "result = ' '.join(list).split()\n",
        "print('Original list: ', list, ', Result: ', result)"
      ],
      "metadata": {
        "colab": {
          "base_uri": "https://localhost:8080/"
        },
        "id": "AbWzujcwYQ3j",
        "outputId": "0a299e7f-6ad8-4200-c0b4-4ecb4edaa6c8"
      },
      "id": "AbWzujcwYQ3j",
      "execution_count": 9,
      "outputs": [
        {
          "output_type": "stream",
          "name": "stdout",
          "text": [
            "Original list:  ['dfvdfv', '', 'sdcdss', 'sdsdcsdc', ''] , Result:  ['dfvdfv', 'sdcdss', 'sdsdcsdc']\n"
          ]
        }
      ]
    }
  ],
  "metadata": {
    "kernelspec": {
      "display_name": "Python 3 (ipykernel)",
      "language": "python",
      "name": "python3"
    },
    "language_info": {
      "codemirror_mode": {
        "name": "ipython",
        "version": 3
      },
      "file_extension": ".py",
      "mimetype": "text/x-python",
      "name": "python",
      "nbconvert_exporter": "python",
      "pygments_lexer": "ipython3",
      "version": "3.9.7"
    },
    "colab": {
      "provenance": [],
      "collapsed_sections": []
    }
  },
  "nbformat": 4,
  "nbformat_minor": 5
}
