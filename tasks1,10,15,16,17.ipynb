{
  "cells": [
    {
      "cell_type": "markdown",
      "metadata": {
        "id": "view-in-github",
        "colab_type": "text"
      },
      "source": [
        "<a href=\"https://colab.research.google.com/github/YevheniiKshanovskyi/SFLteam/blob/Oleh-Krupa/tasks1%2C10%2C15%2C16%2C17.ipynb\" target=\"_parent\"><img src=\"https://colab.research.google.com/assets/colab-badge.svg\" alt=\"Open In Colab\"/></a>"
      ]
    },
    {
      "cell_type": "markdown",
      "id": "6cc93a91",
      "metadata": {
        "id": "6cc93a91"
      },
      "source": [
        "# Set up\n",
        "Install Anaconda Python (version 3.7 or later)"
      ]
    },
    {
      "cell_type": "code",
      "execution_count": 2,
      "id": "bc7c0a7c",
      "metadata": {
        "id": "bc7c0a7c",
        "outputId": "7a867145-ca56-4ebe-e474-311b893d4bd3",
        "colab": {
          "base_uri": "https://localhost:8080/"
        }
      },
      "outputs": [
        {
          "output_type": "stream",
          "name": "stdout",
          "text": [
            "sys.version_info(major=3, minor=7, micro=14, releaselevel='final', serial=0)\n",
            "version 3.7.14\n"
          ]
        }
      ],
      "source": [
        "# Installation - anaconda python:\n",
        "#     - https://www.anaconda.com/products/individual\n",
        "# After installation you can always add modules.\n",
        "# Modules can be added from different channels.\n",
        "#   conda info\n",
        "#   conda config --add channels anaconda\n",
        "#   conda config --add channels conda-forge\n",
        "# You can do periodic updates using these commands:\n",
        "#   conda update conda\n",
        "#   conda update anaconda\n",
        "# -------------------------------------------------------\n",
        "import sys\n",
        "vv = sys.version_info\n",
        "print(vv)\n",
        "print('version ' + '.'.join([str(x) for x in vv[0:3]]))"
      ]
    },
    {
      "cell_type": "markdown",
      "id": "06c27760",
      "metadata": {
        "id": "06c27760"
      },
      "source": [
        "##  Question 1"
      ]
    },
    {
      "cell_type": "markdown",
      "id": "82c39cd7",
      "metadata": {
        "id": "82c39cd7"
      },
      "source": [
        "Write a print statement to print the mixed fraction 3 5/8 as a floating point number and as an integer."
      ]
    },
    {
      "cell_type": "code",
      "source": [
        "print(f'int - {int(5/8 + 3)}')\n",
        "print(f'float - {float(5/8 + 3)}')\n"
      ],
      "metadata": {
        "colab": {
          "base_uri": "https://localhost:8080/"
        },
        "id": "dBOGHVwQJpWW",
        "outputId": "96df96c7-7b08-45e5-a8a4-14eee1060971"
      },
      "id": "dBOGHVwQJpWW",
      "execution_count": 19,
      "outputs": [
        {
          "output_type": "stream",
          "name": "stdout",
          "text": [
            "int - 3\n",
            "float - 3.625\n"
          ]
        }
      ]
    },
    {
      "cell_type": "markdown",
      "id": "3d1206e0",
      "metadata": {
        "id": "3d1206e0"
      },
      "source": [
        "### Answer"
      ]
    },
    {
      "cell_type": "markdown",
      "id": "c9c8af36",
      "metadata": {
        "id": "c9c8af36"
      },
      "source": [
        "##  Question 10"
      ]
    },
    {
      "cell_type": "markdown",
      "id": "b3189cf2",
      "metadata": {
        "id": "b3189cf2"
      },
      "source": [
        "Write a program that generates a random decimal number between 1 and 10 with two decimal places of accuracy."
      ]
    },
    {
      "cell_type": "code",
      "source": [
        "from random import uniform\n",
        "\n",
        "print(round(uniform(0, 10), 2))\n",
        "\n"
      ],
      "metadata": {
        "colab": {
          "base_uri": "https://localhost:8080/"
        },
        "id": "jbfqRvH2_q_4",
        "outputId": "a5618141-a66a-48c5-f945-dd28cb45460e"
      },
      "id": "jbfqRvH2_q_4",
      "execution_count": 6,
      "outputs": [
        {
          "output_type": "stream",
          "name": "stdout",
          "text": [
            "7.06\n"
          ]
        }
      ]
    },
    {
      "cell_type": "markdown",
      "id": "81480a72",
      "metadata": {
        "id": "81480a72"
      },
      "source": [
        "##  Question 15"
      ]
    },
    {
      "cell_type": "markdown",
      "id": "9868bbf3",
      "metadata": {
        "id": "9868bbf3"
      },
      "source": [
        "A store charges $\\$$12 per item if you buy less than 10 items. If you buy between 10 and 99 items, the cost is $\\$$10 per item. If you buy 100 or more items, the cost is $7 per item. Write a program that asks the user how many items they are buying and prints the total cost."
      ]
    },
    {
      "cell_type": "code",
      "source": [
        "amount = int(input(\"Print amount you want to buy: \"))\n",
        "\n",
        "if amount < 10:\n",
        "  print(f'the total cost = {amount * 12}')\n",
        "elif amount >= 10 and amount < 100:\n",
        "   print(f'the total cost = {amount * 10}')\n",
        "elif amount > 100:\n",
        "  print(f'the total cost = {amount * 7}')\n",
        "else:\n",
        "  print(\"Incorect amount\")"
      ],
      "metadata": {
        "colab": {
          "base_uri": "https://localhost:8080/"
        },
        "id": "FZAK_Go2BgZv",
        "outputId": "4dbb534a-9f66-4ab6-8d03-241077b8ecf2"
      },
      "id": "FZAK_Go2BgZv",
      "execution_count": 8,
      "outputs": [
        {
          "output_type": "stream",
          "name": "stdout",
          "text": [
            "Print amount you want to buy: 2\n",
            "the total cost = 24\n"
          ]
        }
      ]
    },
    {
      "cell_type": "markdown",
      "id": "bf4186d1",
      "metadata": {
        "id": "bf4186d1"
      },
      "source": [
        "##  Question 16"
      ]
    },
    {
      "cell_type": "markdown",
      "id": "d1389cb0",
      "metadata": {
        "id": "d1389cb0"
      },
      "source": [
        "Write a program that removes any repeated items from a list so that each item appears at most once. For instance, the list $[1,1,2,3,4,3,0,0]$ would become $[1,2,3,4,0]$."
      ]
    },
    {
      "cell_type": "code",
      "source": [
        "list_1 = [1,1,2,3,4,3,0,0]\n",
        "non_repeated = list(set(list_1))\n",
        "print(non_repeated)"
      ],
      "metadata": {
        "colab": {
          "base_uri": "https://localhost:8080/"
        },
        "id": "P8DIQMcPClao",
        "outputId": "af8a3055-8473-44d6-d09a-ff285a4ba3af"
      },
      "id": "P8DIQMcPClao",
      "execution_count": 9,
      "outputs": [
        {
          "output_type": "stream",
          "name": "stdout",
          "text": [
            "[0, 1, 2, 3, 4]\n"
          ]
        }
      ]
    },
    {
      "cell_type": "markdown",
      "id": "e062f922",
      "metadata": {
        "id": "e062f922"
      },
      "source": [
        "##  Question 17"
      ]
    },
    {
      "cell_type": "markdown",
      "id": "b6305c6e",
      "metadata": {
        "id": "b6305c6e"
      },
      "source": [
        "Calculate number of business days between two dates using datetime module."
      ]
    },
    {
      "cell_type": "code",
      "source": [
        "from datetime import date, timedelta\n",
        "\n",
        "date_1inp = input('FIrst date(y-m-d)').split('-')\n",
        "date_2inp = input('Second date(y-m-d)').split('-')\n",
        "\n",
        "date_1 = date(int(date_1inp[0]),int(date_1inp[1]),int(date_1inp[2]))\n",
        "date_2 = date(int(date_2inp[0]),int(date_2inp[1]),int(date_2inp[2]))\n",
        "\n",
        "all_days = (date_1 + timedelta(x + 1) for x in range((date_2 - date_1).days))\n",
        "count = sum(1 for day in all_days if day.weekday() < 5)\n",
        "\n",
        "print(f'From {\"-\".join(date_1inp)} to {\"-\".join(date_2inp)} are {count} busines days')"
      ],
      "metadata": {
        "colab": {
          "base_uri": "https://localhost:8080/"
        },
        "id": "XPW5dIPgDhd4",
        "outputId": "2d1e4fe3-fea0-4e9a-e813-2d7ab652b55f"
      },
      "id": "XPW5dIPgDhd4",
      "execution_count": 18,
      "outputs": [
        {
          "output_type": "stream",
          "name": "stdout",
          "text": [
            "FIrst date(y-m-d)2002-1-1\n",
            "Second date(y-m-d)2009-8-8\n",
            "From 2002-1-1 to 2009-8-8 are 1983 busines days\n"
          ]
        }
      ]
    }
  ],
  "metadata": {
    "kernelspec": {
      "display_name": "Python 3 (ipykernel)",
      "language": "python",
      "name": "python3"
    },
    "language_info": {
      "codemirror_mode": {
        "name": "ipython",
        "version": 3
      },
      "file_extension": ".py",
      "mimetype": "text/x-python",
      "name": "python",
      "nbconvert_exporter": "python",
      "pygments_lexer": "ipython3",
      "version": "3.9.7"
    },
    "colab": {
      "provenance": [],
      "include_colab_link": true
    }
  },
  "nbformat": 4,
  "nbformat_minor": 5
}