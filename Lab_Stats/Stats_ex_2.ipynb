{
 "cells": [
  {
   "cell_type": "markdown",
   "id": "d226adc8",
   "metadata": {},
   "source": [
    "We will work today with 'momentum_data.xlsx' file. It contains several tabs:\n",
    "\n",
    "- The 1st tab contains the momentum factor as an excess return: $\\tilde{r}^{\\text{mom}}$.\n",
    "\n",
    "- The 3rd tab contains returns on portfolios corresponding to scored momentum deciles.\n",
    "\n",
    "    - $r^{\\text{mom(1)}}$ denotes the portfolio of stocks in the lowest momentum decile, the 'losers' with the lowest past returns.\n",
    "    \n",
    "    - $r^{\\text{mom(10)}}$ denotes the portfolio of stocks in the highest momentum decile.\n",
    "    \n",
    "- The 4th tab gives portfolios sorted by momentum and size.\n",
    "\n",
    "    - $r^{\\text{momSU}}$ denotes the portfolio of small stocks in the top 3 deciles of momentum scores.\n",
    "    \n",
    "    - $r^{\\text{momBD}}$ denotes the portfolio of big-stocks in the bottom 3 deciles of momentum scores."
   ]
  },
  {
   "cell_type": "markdown",
   "id": "342694fc",
   "metadata": {},
   "source": [
    "### Task 1.\n",
    "\n",
    "Check that momentum return, $\\tilde{r}^{\\text{mom:FF}}$, given in the second tab, is constructed:\n",
    "\n",
    "$\\tilde{r}^{\\text{mom:FF}} = (r^{\\text{momBU}}+r^{\\text{momSU}})/2-\n",
    "(r^{\\text{momBD}}+r^{\\text{momSd}})/2$"
   ]
  },
  {
   "cell_type": "code",
   "execution_count": null,
   "id": "f49d430b",
   "metadata": {},
   "outputs": [],
   "source": []
  },
  {
   "cell_type": "markdown",
   "id": "a606b47d",
   "metadata": {},
   "source": [
    "### Task 2\n",
    "\n",
    "Fill in next table 1 with the appropriate stats for $\\tilde{r}^{\\text{mom:FF}}$. Please note, that $\\tilde{r}^m$ is the excess market return, MKT; $\\tilde{r}^v$ is the value portfolio, HML.\n",
    "\n",
    "<img src='table1.png'>"
   ]
  },
  {
   "cell_type": "code",
   "execution_count": null,
   "id": "099f7975",
   "metadata": {},
   "outputs": [],
   "source": []
  },
  {
   "cell_type": "markdown",
   "id": "ea181e55",
   "metadata": {},
   "source": [
    "### Task 3\n",
    "\n",
    "Construct your own long-only implementation:\n",
    "\n",
    "$\\tilde{r}^{\\text{momU:FF}} = (r^{\\text{momBU}}+r^{\\text{momSU}})/2 - r^f.$\n",
    "\n",
    "Note that you have to subtract the risk-free rate (RF) to get the excess return of this portfolio.\n",
    "\n",
    "Fill out Table 2 for the data in the period 1994-2022.\n",
    "\n",
    "<img src='table2.png'>"
   ]
  },
  {
   "cell_type": "markdown",
   "id": "7650ff74",
   "metadata": {},
   "source": [
    "### Task 4\n",
    "\n",
    "Assess how sensitive the threshold for the 'winners' and 'losers' is in the results. Specifically, we compare three constructions:\n",
    "\n",
    "- long the top 1 decile and short the bottom 1 deciles:\n",
    "\n",
    "$\\tilde{r}^{\\text{momD1}} = r^{\\text{mom(10)}}-r^{\\text{mom(1)}}$\n",
    "\n",
    "• long the top 3 deciles and short the bottom 3 deciles:\n",
    "\n",
    "$\\tilde{r}^{\\text{momD3}} = \n",
    "(r^{\\text{mom(8)}}+r^{\\text{mom(9)}}+r^{\\text{mom(10)}})/3-\n",
    "(r^{\\text{mom(1)}}+r^{\\text{mom(2)}}+r^{\\text{mom(3)}})/3 = \n",
    "\\frac 13 \\sum^{10}_{k=8} r^{\\text{mom(k)}} + \n",
    "\\frac 13 \\sum^{3}_{k=1} r^{\\text{mom(k)}}$\n",
    " \n",
    "\n",
    "• long the top 5 deciles and short the bottom 5 deciles:\n",
    "\n",
    "$\\tilde{r}^{\\text{momD5}} = \n",
    "\\frac 15 \\sum^{10}_{k=6} r^{\\text{mom(k)}} + \n",
    "\\frac 15 \\sum^{5}_{k=1} r^{\\text{mom(k)}}$\n",
    "\n",
    "Compare all three constructions by filling out the stats in the table 3 below for the period 1994-2022.\n",
    "\n",
    "<img src='table3.png'>"
   ]
  },
  {
   "cell_type": "code",
   "execution_count": null,
   "id": "0aca0319",
   "metadata": {},
   "outputs": [],
   "source": []
  },
  {
   "cell_type": "markdown",
   "id": "2a7cbae4",
   "metadata": {},
   "source": [
    "### Task 5\n",
    "Use the data provided on both small-stock 'winners', $r^{\\text{momSU}}$, and small-stock 'losers', $r^{\\text{momSD}}$\n",
    "to construct a small-stock momentum portfolio,\n",
    "\n",
    "$\n",
    "r_t^{\\text{momS}} = r^{\\text{momSU}} - r^{\\text{momSD}}\n",
    "$\n",
    "\n",
    "Similarly, use the data provided to construct a big-stock momentum portfolio,\n",
    "\n",
    "$\n",
    "r_t^{\\text{momB}} = r^{\\text{momBU}} - r^{\\text{momBD}}\n",
    "$\n",
    "\n",
    "Fill out Table 4 over the sample 1994-2022.\n",
    "\n",
    "<img src='table4.png'>"
   ]
  },
  {
   "cell_type": "code",
   "execution_count": null,
   "id": "7365f3d9",
   "metadata": {},
   "outputs": [],
   "source": []
  },
  {
   "cell_type": "markdown",
   "id": "ae99b33f",
   "metadata": {},
   "source": [
    "### Task 6\n",
    "\n",
    "Re-do Tables 2 and 4 but for the size portfolios of the Value factor. Get this data from Ken French's website, https://mba.tuck.dartmouth.edu/pages/faculty/ken.french/data_library.html\n",
    "\n",
    "Specifically, see the following data set:\n",
    "\n",
    "- Size-sorted portfolios for value. \"6 Portfolios Formed on Size and Book-to-Market (2 x 3)\""
   ]
  },
  {
   "cell_type": "markdown",
   "id": "638ed008",
   "metadata": {},
   "source": [
    "### Task 7\n",
    "\n",
    "Re-do Table 3 for the decile portfolios of the Value factor. Get this data from Ken French's website, https://mba.tuck.dartmouth.edu/pages/faculty/ken.french/data_library.html\n",
    "\n",
    "Specifically, see the following data set:\n",
    "\n",
    "- \"Portfolios Formed on Book-to-Market\""
   ]
  },
  {
   "cell_type": "code",
   "execution_count": null,
   "id": "244a1e72",
   "metadata": {},
   "outputs": [],
   "source": []
  }
 ],
 "metadata": {
  "kernelspec": {
   "display_name": "Python 3 (ipykernel)",
   "language": "python",
   "name": "python3"
  },
  "language_info": {
   "codemirror_mode": {
    "name": "ipython",
    "version": 3
   },
   "file_extension": ".py",
   "mimetype": "text/x-python",
   "name": "python",
   "nbconvert_exporter": "python",
   "pygments_lexer": "ipython3",
   "version": "3.9.7"
  }
 },
 "nbformat": 4,
 "nbformat_minor": 5
}
